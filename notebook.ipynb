{
 "cells": [
  {
   "cell_type": "code",
   "execution_count": null,
   "id": "d42dd7b4-162a-4c08-8b7e-970934d5affd",
   "metadata": {},
   "outputs": [],
   "source": [
    "train_image_uri = \"/home/aerotract/NAS/main/Clients/Giustina/Winter2023/100_230OG/Data/ortho/230OG_Orthomosaic_export_WedMar08181810258552.tif\"\n",
    "train_label_uri = \"/home/aerotract/NAS/main/Clients/Giustina/Winter2023/100_230OG/Training/Tree_polygons_00_230OG.geojson\"\n",
    "train_aoi_uri = \"/home/aerotract/NAS/main/Clients/Giustina/Winter2023/100_230OG/Training/border_polygon_00_230OG.geojson\"\n",
    "\n",
    "val_image_uri = \"/home/aerotract/NAS/main/Clients/Giustina/Winter2023/100_230OG/Data/ortho/230OG_Orthomosaic_export_WedMar08181810258552.tif\"\n",
    "val_label_uri = \"/home/aerotract/NAS/main/Clients/Giustina/Winter2023/100_230OG/Training/Tree_polygons_00_230OG.geojson\"\n",
    "val_aoi_uri = \"/home/aerotract/NAS/main/Clients/Giustina/Winter2023/100_230OG/Training/border_polygon_00_230OG.geojson\"\n",
    "\n",
    "from rvlightning import RVLightningTraining\n",
    "\n",
    "obj = RVLightningTraining(\n",
    "    [train_image_uri, train_label_uri, train_aoi_uri],\n",
    "    [val_image_uri, val_label_uri, val_aoi_uri],\n",
    "    [\"DF\"],\n",
    "    [\"orange\"]\n",
    ")\n",
    "\n",
    "# obj.train()\n",
    "\n",
    "labels, scores = obj.predict()"
   ]
  }
 ],
 "metadata": {
  "kernelspec": {
   "display_name": "rvenv",
   "language": "python",
   "name": "rvenv"
  },
  "language_info": {
   "codemirror_mode": {
    "name": "ipython",
    "version": 3
   },
   "file_extension": ".py",
   "mimetype": "text/x-python",
   "name": "python",
   "nbconvert_exporter": "python",
   "pygments_lexer": "ipython3",
   "version": "3.10.9"
  }
 },
 "nbformat": 4,
 "nbformat_minor": 5
}
